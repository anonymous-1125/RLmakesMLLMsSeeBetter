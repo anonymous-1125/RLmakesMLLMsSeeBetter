{
 "cells": [
  {
   "cell_type": "code",
   "execution_count": null,
   "id": "84f9a0fa",
   "metadata": {},
   "outputs": [],
   "source": [
    "import torch\n",
    "from PIL import Image\n",
    "from transformers import SiglipVisionConfig, SiglipVisionModel, SiglipImageProcessor\n",
    "from utils import from_path_to_vision_encoder, build_projector"
   ]
  },
  {
   "cell_type": "code",
   "execution_count": null,
   "id": "0ebe358f",
   "metadata": {},
   "outputs": [],
   "source": [
    "vision_base_arch = \"google/siglip2-so400m-patch16-384\"\n",
    "weight_dir = \"./checkpoints/stage1-full-train/stage2-sft-siglip2-so500m-Qwen2.5-1.5B-llava\"\n",
    "vision_weight = from_path_to_vision_encoder(weight_dir)\n"
   ]
  },
  {
   "cell_type": "code",
   "execution_count": null,
   "id": "551a9b2c",
   "metadata": {},
   "outputs": [],
   "source": [
    "device = \"cuda\" if torch.cuda.is_available() else \"cpu\"\n",
    "\n",
    "config = SiglipVisionConfig.from_pretrained(vision_base_arch)\n",
    "vit = SiglipVisionModel.from_pretrained(vision_base_arch)\n",
    "processor = SiglipImageProcessor.from_pretrained(vision_base_arch)\n",
    "\n",
    "del vit.vision_model.encoder.layers[-1:]    \n",
    "vit.vision_model.head = torch.nn.Identity()\n",
    "vit.eval().to(device)"
   ]
  },
  {
   "cell_type": "code",
   "execution_count": 4,
   "id": "0148e864",
   "metadata": {},
   "outputs": [],
   "source": [
    "# ViT weight loading\n",
    "vit_sd = vision_weight[\"vision_tower\"]  \n",
    "vit_sd = {k.replace(\"vision_tower.\", \"\", 1): v for k, v in vit_sd.items()}\n",
    "\n",
    "missing, unexpected = vit.load_state_dict(vit_sd, strict=True)"
   ]
  },
  {
   "cell_type": "code",
   "execution_count": null,
   "id": "35dbc6d0",
   "metadata": {},
   "outputs": [],
   "source": [
    "# Projector weight loading\n",
    "proj_sd = vision_weight[\"mm_projector\"] \n",
    "projector = build_projector(proj_sd, device)\n",
    "missing_p, unexpected_p = projector.load_state_dict(proj_sd, strict=True)"
   ]
  },
  {
   "cell_type": "code",
   "execution_count": 7,
   "id": "f4f79845",
   "metadata": {},
   "outputs": [
    {
     "name": "stdout",
     "output_type": "stream",
     "text": [
      "feature shape (batch, num_patchs, vision_hidden_dim): (1, 576, 1152)\n"
     ]
    }
   ],
   "source": [
    "IMAGE_PATH = \"dog.jpg\"\n",
    "\n",
    "img = Image.open(IMAGE_PATH).convert(\"RGB\")\n",
    "batch = processor.preprocess(img, return_tensors=\"pt\")  \n",
    "pixel_values = batch[\"pixel_values\"].to(device=device, dtype=torch.float32)\n",
    "\n",
    "# Running through vit only \n",
    "with torch.no_grad():\n",
    "    out = vit(pixel_values=pixel_values, output_hidden_states=True)\n",
    "    feats = out.hidden_states[-1] \n",
    "\n",
    "print(\"feature shape (batch, num_patchs, vision_hidden_dim):\", tuple(feats.shape))"
   ]
  },
  {
   "cell_type": "code",
   "execution_count": 8,
   "id": "71bb2ada",
   "metadata": {},
   "outputs": [
    {
     "name": "stdout",
     "output_type": "stream",
     "text": [
      "vit feature shape: (1, 576, 1152)\n",
      "projected feature shape: (1, 576, 1536)\n"
     ]
    }
   ],
   "source": [
    "# run through vit then projector\n",
    "with torch.no_grad():\n",
    "    vit_out = vit(pixel_values=pixel_values, output_hidden_states=True)\n",
    "    vit_feats = vit_out.hidden_states[-1]           # [batch, num_patchs, vision_hidden_dim]\n",
    "    proj_feats = projector(vit_feats)               # [batch, num_patchs, llm_hidden_dim]\n",
    "\n",
    "print(\"vit feature shape:\", tuple(vit_feats.shape))\n",
    "print(\"projected feature shape:\", tuple(proj_feats.shape))"
   ]
  },
  {
   "cell_type": "code",
   "execution_count": null,
   "id": "68b3e71a",
   "metadata": {},
   "outputs": [],
   "source": []
  }
 ],
 "metadata": {
  "kernelspec": {
   "display_name": "Python 3",
   "language": "python",
   "name": "python3"
  },
  "language_info": {
   "codemirror_mode": {
    "name": "ipython",
    "version": 3
   },
   "file_extension": ".py",
   "mimetype": "text/x-python",
   "name": "python",
   "nbconvert_exporter": "python",
   "pygments_lexer": "ipython3",
   "version": "3.10.12"
  }
 },
 "nbformat": 4,
 "nbformat_minor": 5
}
